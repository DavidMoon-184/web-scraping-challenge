{
 "cells": [
  {
   "cell_type": "code",
   "execution_count": 1,
   "id": "3acf2827",
   "metadata": {},
   "outputs": [],
   "source": [
    "# Import dependencies\n",
    "from bs4 import BeautifulSoup as bs\n",
    "from splinter import Browser\n",
    "from pprint import pprint\n",
    "import pymongo\n",
    "import pandas as pd\n",
    "import requests\n",
    "import time\n",
    "from webdriver_manager.chrome import ChromeDriverManager"
   ]
  },
  {
   "cell_type": "code",
   "execution_count": 2,
   "id": "55f54f97",
   "metadata": {},
   "outputs": [
    {
     "name": "stderr",
     "output_type": "stream",
     "text": [
      "\n",
      "\n",
      "====== WebDriver manager ======\n",
      "Current google-chrome version is 93.0.4577\n",
      "Get LATEST driver version for 93.0.4577\n",
      "Driver [C:\\Users\\david\\.wdm\\drivers\\chromedriver\\win32\\93.0.4577.63\\chromedriver.exe] found in cache\n"
     ]
    }
   ],
   "source": [
    "executable_path = {'executable_path': ChromeDriverManager().install()}\n",
    "browser = Browser('chrome', **executable_path, headless=False)"
   ]
  },
  {
   "cell_type": "code",
   "execution_count": 4,
   "id": "e09d47be",
   "metadata": {},
   "outputs": [],
   "source": [
    "# visit site and scrape\n",
    "site_url = \"https://mars.nasa.gov/news/\"\n",
    "browser.visit(site_url)\n",
    "\n",
    "html = browser.html\n",
    "soup = bs(html, 'html.parser')"
   ]
  },
  {
   "cell_type": "markdown",
   "id": "668160a2",
   "metadata": {},
   "source": [
    "<h2>NASA Mars News</h2>"
   ]
  },
  {
   "cell_type": "code",
   "execution_count": 5,
   "id": "9dbb4bb6",
   "metadata": {
    "scrolled": true
   },
   "outputs": [
    {
     "name": "stdout",
     "output_type": "stream",
     "text": [
      "September 23, 2021\n",
      "NASA's Perseverance Rover Cameras Capture Mars Like Never Before\n",
      "Scientists tap into an array of imagers aboard the six-wheeled explorer to get a big picture of the Red Planet.\n"
     ]
    }
   ],
   "source": [
    "#Scrape the Mars News Site and collect the latest News Title and Paragraph Text. \n",
    "#Assign the text to variables that you can reference later.\n",
    "\n",
    "article = soup.find(\"div\", class_=\"list_text\")\n",
    "summary = article.find(\"div\", class_=\"article_teaser_body\").text\n",
    "title = article.find(\"div\", class_=\"content_title\").text\n",
    "date = article.find(\"div\", class_=\"list_date\").text\n",
    "print(date)\n",
    "print(title)\n",
    "print(summary)"
   ]
  },
  {
   "cell_type": "markdown",
   "id": "4619d1af",
   "metadata": {},
   "source": [
    "<h2>JPL Mars Space Images - Featured Image</h2>"
   ]
  },
  {
   "cell_type": "code",
   "execution_count": 6,
   "id": "f8b93544",
   "metadata": {},
   "outputs": [],
   "source": [
    "# Visit the url for the Featured Space Image site\n",
    "image_url = \"https://spaceimages-mars.com/\"\n",
    "browser.visit(image_url)\n",
    "\n",
    "# Use splinter to navigate the site and find the image url for the current Featured Mars Image \n",
    "# Assign the url string to a variable called featured_image_url\n",
    "html = browser.html\n",
    "soup = bs(html, 'html.parser')\n",
    "image = soup.find(\"img\", class_=\"headerimage fade-in\")[\"src\"]\n",
    "img_url = \"https://spaceimages-mars.com/\"+image\n",
    "featured_image_url = img_url"
   ]
  },
  {
   "cell_type": "code",
   "execution_count": 7,
   "id": "c665c936",
   "metadata": {
    "scrolled": true
   },
   "outputs": [
    {
     "data": {
      "text/plain": [
       "'https://spaceimages-mars.com/image/featured/mars1.jpg'"
      ]
     },
     "execution_count": 7,
     "metadata": {},
     "output_type": "execute_result"
    }
   ],
   "source": [
    "featured_image_url "
   ]
  },
  {
   "cell_type": "markdown",
   "id": "54498921",
   "metadata": {},
   "source": [
    "<h2>Mars Facts</h2>"
   ]
  },
  {
   "cell_type": "code",
   "execution_count": 8,
   "id": "417cf361",
   "metadata": {},
   "outputs": [
    {
     "data": {
      "text/html": [
       "<div>\n",
       "<style scoped>\n",
       "    .dataframe tbody tr th:only-of-type {\n",
       "        vertical-align: middle;\n",
       "    }\n",
       "\n",
       "    .dataframe tbody tr th {\n",
       "        vertical-align: top;\n",
       "    }\n",
       "\n",
       "    .dataframe thead th {\n",
       "        text-align: right;\n",
       "    }\n",
       "</style>\n",
       "<table border=\"1\" class=\"dataframe\">\n",
       "  <thead>\n",
       "    <tr style=\"text-align: right;\">\n",
       "      <th></th>\n",
       "      <th>Mars</th>\n",
       "    </tr>\n",
       "    <tr>\n",
       "      <th>Description</th>\n",
       "      <th></th>\n",
       "    </tr>\n",
       "  </thead>\n",
       "  <tbody>\n",
       "    <tr>\n",
       "      <th>Equatorial Diameter:</th>\n",
       "      <td>6,792 km</td>\n",
       "    </tr>\n",
       "    <tr>\n",
       "      <th>Polar Diameter:</th>\n",
       "      <td>6,752 km</td>\n",
       "    </tr>\n",
       "    <tr>\n",
       "      <th>Mass:</th>\n",
       "      <td>6.39 × 10^23 kg (0.11 Earths)</td>\n",
       "    </tr>\n",
       "    <tr>\n",
       "      <th>Moons:</th>\n",
       "      <td>2 ( Phobos &amp; Deimos )</td>\n",
       "    </tr>\n",
       "    <tr>\n",
       "      <th>Orbit Distance:</th>\n",
       "      <td>227,943,824 km (1.38 AU)</td>\n",
       "    </tr>\n",
       "    <tr>\n",
       "      <th>Orbit Period:</th>\n",
       "      <td>687 days (1.9 years)</td>\n",
       "    </tr>\n",
       "    <tr>\n",
       "      <th>Surface Temperature:</th>\n",
       "      <td>-87 to -5 °C</td>\n",
       "    </tr>\n",
       "    <tr>\n",
       "      <th>First Record:</th>\n",
       "      <td>2nd millennium BC</td>\n",
       "    </tr>\n",
       "    <tr>\n",
       "      <th>Recorded By:</th>\n",
       "      <td>Egyptian astronomers</td>\n",
       "    </tr>\n",
       "  </tbody>\n",
       "</table>\n",
       "</div>"
      ],
      "text/plain": [
       "                                               Mars\n",
       "Description                                        \n",
       "Equatorial Diameter:                       6,792 km\n",
       "Polar Diameter:                            6,752 km\n",
       "Mass:                 6.39 × 10^23 kg (0.11 Earths)\n",
       "Moons:                        2 ( Phobos & Deimos )\n",
       "Orbit Distance:            227,943,824 km (1.38 AU)\n",
       "Orbit Period:                  687 days (1.9 years)\n",
       "Surface Temperature:                   -87 to -5 °C\n",
       "First Record:                     2nd millennium BC\n",
       "Recorded By:                   Egyptian astronomers"
      ]
     },
     "execution_count": 8,
     "metadata": {},
     "output_type": "execute_result"
    }
   ],
   "source": [
    "# Visit the Mars Facts webpage and use Pandas to scrape the table containing facts about the planet including Diameter, Mass, etc.\n",
    "df = pd.read_html(\"https://galaxyfacts-mars.com/\")[1]\n",
    "df.columns= [\"Description\", \"Mars\"]\n",
    "df.set_index(\"Description\", inplace=True)\n",
    "df"
   ]
  },
  {
   "cell_type": "code",
   "execution_count": 9,
   "id": "efcc3f5a",
   "metadata": {},
   "outputs": [
    {
     "data": {
      "text/plain": [
       "'<table border=\"1\" class=\"dataframe\">\\n  <thead>\\n    <tr style=\"text-align: right;\">\\n      <th></th>\\n      <th>Mars</th>\\n    </tr>\\n    <tr>\\n      <th>Description</th>\\n      <th></th>\\n    </tr>\\n  </thead>\\n  <tbody>\\n    <tr>\\n      <th>Equatorial Diameter:</th>\\n      <td>6,792 km</td>\\n    </tr>\\n    <tr>\\n      <th>Polar Diameter:</th>\\n      <td>6,752 km</td>\\n    </tr>\\n    <tr>\\n      <th>Mass:</th>\\n      <td>6.39 × 10^23 kg (0.11 Earths)</td>\\n    </tr>\\n    <tr>\\n      <th>Moons:</th>\\n      <td>2 ( Phobos &amp; Deimos )</td>\\n    </tr>\\n    <tr>\\n      <th>Orbit Distance:</th>\\n      <td>227,943,824 km (1.38 AU)</td>\\n    </tr>\\n    <tr>\\n      <th>Orbit Period:</th>\\n      <td>687 days (1.9 years)</td>\\n    </tr>\\n    <tr>\\n      <th>Surface Temperature:</th>\\n      <td>-87 to -5 °C</td>\\n    </tr>\\n    <tr>\\n      <th>First Record:</th>\\n      <td>2nd millennium BC</td>\\n    </tr>\\n    <tr>\\n      <th>Recorded By:</th>\\n      <td>Egyptian astronomers</td>\\n    </tr>\\n  </tbody>\\n</table>'"
      ]
     },
     "execution_count": 9,
     "metadata": {},
     "output_type": "execute_result"
    }
   ],
   "source": [
    "# Use Pandas to convert the data to a HTML table string.\n",
    "df.to_html()"
   ]
  },
  {
   "cell_type": "markdown",
   "id": "94695744",
   "metadata": {},
   "source": [
    "<h2>Mars Hemispheres</h2>"
   ]
  },
  {
   "cell_type": "code",
   "execution_count": 10,
   "id": "465b5f4f",
   "metadata": {},
   "outputs": [],
   "source": [
    "# Visit the astrogeology site to obtain high resolution images for each of Mar's hemispheres.\n",
    "astro_url = \"https://marshemispheres.com/\"\n",
    "browser.visit(astro_url)"
   ]
  },
  {
   "cell_type": "code",
   "execution_count": 11,
   "id": "1a282549",
   "metadata": {},
   "outputs": [],
   "source": [
    "#Save both the image url string for the full resolution hemisphere image, and the Hemisphere title containing the hemisphere name. \n",
    "#Use a Python dictionary to store the data using the keys img_url and title.\n",
    "\n",
    "\n",
    "hemisphere_image_urls = []\n",
    "\n",
    "for i in range (4):\n",
    "    time.sleep(5)\n",
    "    images = browser.find_by_tag('h3')\n",
    "    images[i].click()\n",
    "    html = browser.html\n",
    "    soup = bs(html, 'html.parser')\n",
    "    partial = soup.find(\"img\", class_=\"wide-image\")[\"src\"]\n",
    "    img_title = soup.find(\"h2\",class_=\"title\").text\n",
    "    img_url = 'https://marshemispheres.com/'+ partial\n",
    "    dictionary={\"title\":img_title,\"img_url\":img_url}\n",
    "    hemisphere_image_urls.append(dictionary)\n",
    "    browser.back()"
   ]
  },
  {
   "cell_type": "code",
   "execution_count": 12,
   "id": "6f39675e",
   "metadata": {},
   "outputs": [
    {
     "name": "stdout",
     "output_type": "stream",
     "text": [
      "[{'title': 'Cerberus Hemisphere Enhanced', 'img_url': 'https://marshemispheres.com/images/f5e372a36edfa389625da6d0cc25d905_cerberus_enhanced.tif_full.jpg'}, {'title': 'Schiaparelli Hemisphere Enhanced', 'img_url': 'https://marshemispheres.com/images/3778f7b43bbbc89d6e3cfabb3613ba93_schiaparelli_enhanced.tif_full.jpg'}, {'title': 'Syrtis Major Hemisphere Enhanced', 'img_url': 'https://marshemispheres.com/images/555e6403a6ddd7ba16ddb0e471cadcf7_syrtis_major_enhanced.tif_full.jpg'}, {'title': 'Valles Marineris Hemisphere Enhanced', 'img_url': 'https://marshemispheres.com/images/b3c7c6c9138f57b4756be9b9c43e3a48_valles_marineris_enhanced.tif_full.jpg'}]\n"
     ]
    }
   ],
   "source": [
    "#Append the dictionary with the image url string and the hemisphere title to a list.\n",
    "print(hemisphere_image_urls)"
   ]
  },
  {
   "cell_type": "code",
   "execution_count": 13,
   "id": "30bdc7f8",
   "metadata": {},
   "outputs": [],
   "source": [
    "browser.quit()"
   ]
  }
 ],
 "metadata": {
  "kernelspec": {
   "display_name": "Python 3 (ipykernel)",
   "language": "python",
   "name": "python3"
  },
  "language_info": {
   "codemirror_mode": {
    "name": "ipython",
    "version": 3
   },
   "file_extension": ".py",
   "mimetype": "text/x-python",
   "name": "python",
   "nbconvert_exporter": "python",
   "pygments_lexer": "ipython3",
   "version": "3.9.7"
  }
 },
 "nbformat": 4,
 "nbformat_minor": 5
}
